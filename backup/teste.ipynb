{
 "cells": [
  {
   "cell_type": "code",
   "execution_count": null,
   "metadata": {},
   "outputs": [],
   "source": [
    "# %pip install pymem"
   ]
  },
  {
   "cell_type": "code",
   "execution_count": 3,
   "metadata": {},
   "outputs": [],
   "source": [
    "import pymem\n",
    "import pymem.process"
   ]
  },
  {
   "cell_type": "code",
   "execution_count": 76,
   "metadata": {},
   "outputs": [],
   "source": [
    "# Acessar o processo do jogo \"Perfect World\"\n",
    "def access_game_memory(process_name, base_address):\n",
    "    # Inicializar o pymem e abrir o processo\n",
    "    pm = pymem.Pymem()\n",
    "\n",
    "    # Procurar o processo pelo nome\n",
    "    process_id = None\n",
    "    for process in pymem.process.list_processes():\n",
    "        if process.szExeFile.decode('utf-8') == process_name:\n",
    "            process_id = process.th32ProcessID\n",
    "            break\n",
    "\n",
    "    if process_id is None:\n",
    "        print(f\"Process {process_name} not found\")\n",
    "        return\n",
    "\n",
    "    # Abrir o processo usando o process_id\n",
    "    pm.open_process_from_id(process_id)\n",
    "    \n",
    "    # Ler o valor da memória\n",
    "    try:\n",
    "        item_id = pm.read_int(base_address)\n",
    "        print(f\"Item ID at address {hex(base_address)}: {item_id}\")\n",
    "    except pymem.exception.MemoryReadError:\n",
    "        print(\"Failed to read memory at the specified address\")\n",
    "\n",
    "    # Fechar o processo\n",
    "    pm.close_process()"
   ]
  },
  {
   "cell_type": "code",
   "execution_count": 75,
   "metadata": {},
   "outputs": [
    {
     "name": "stdout",
     "output_type": "stream",
     "text": [
      "Item ID at address 0x87da19e0: 37\n"
     ]
    }
   ],
   "source": [
    "# Acessar memória do jogo\n",
    "process_name = 'elementclient_64.exe'\n",
    "base_address = 0xFBC8C534\n",
    "access_game_memory(process_name, base_address)"
   ]
  }
 ],
 "metadata": {
  "kernelspec": {
   "display_name": "Python 3",
   "language": "python",
   "name": "python3"
  },
  "language_info": {
   "codemirror_mode": {
    "name": "ipython",
    "version": 3
   },
   "file_extension": ".py",
   "mimetype": "text/x-python",
   "name": "python",
   "nbconvert_exporter": "python",
   "pygments_lexer": "ipython3",
   "version": "3.12.3"
  }
 },
 "nbformat": 4,
 "nbformat_minor": 2
}
