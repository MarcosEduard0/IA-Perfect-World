{
 "cells": [
  {
   "cell_type": "code",
   "execution_count": 141,
   "metadata": {},
   "outputs": [
    {
     "name": "stdout",
     "output_type": "stream",
     "text": [
      "2025-01-20 13:48:50.090814\n"
     ]
    }
   ],
   "source": [
    "from datetime import datetime, timedelta\n",
    "\n",
    "# Tempo atual\n",
    "now = datetime.now()\n",
    "\n",
    "# Adicionando 2104 minutos\n",
    "new_time = now + timedelta(minutes=112)\n",
    "\n",
    "print(new_time)"
   ]
  },
  {
   "cell_type": "code",
   "execution_count": 1,
   "metadata": {},
   "outputs": [],
   "source": [
    "import pandas as pd\n",
    "import re\n",
    "import os\n",
    "from selenium import webdriver\n",
    "from selenium.webdriver.common.by import By\n",
    "from bs4 import BeautifulSoup\n",
    "\n",
    "# from webdriver_manager.chrome import ChromeDriverManager\n",
    "from selenium.webdriver.support import expected_conditions as EC\n",
    "from selenium.webdriver.support.ui import WebDriverWait"
   ]
  },
  {
   "cell_type": "code",
   "execution_count": null,
   "metadata": {},
   "outputs": [],
   "source": [
    "import random\n",
    "from collections import Counter\n",
    "\n",
    "def simulador_baus(bau, vezes):\n",
    "    \"\"\"\n",
    "    Simula a abertura de baús com base em probabilidades e agrupa os resultados.\n",
    "    \n",
    "    Args:\n",
    "        bau (dict): Dicionário com as chaves 'avatar' e 'prob', contendo nomes e probabilidades.\n",
    "        vezes (int): Quantidade de vezes que o baú será aberto.\n",
    "    \n",
    "    Returns:\n",
    "        dict: Dicionário com os avatares e a quantidade de vezes que foram sorteados.\n",
    "    \"\"\"\n",
    "    # Converter probabilidades de string para float\n",
    "    probabilidades = [float(p) for p in bau['prob']]\n",
    "    \n",
    "    # Normalizar as probabilidades para garantir que somem 1\n",
    "    total_prob = sum(probabilidades)\n",
    "    probabilidades = [p / total_prob for p in probabilidades]\n",
    "    \n",
    "    # Simular os baús\n",
    "    resultados = []\n",
    "    for _ in range(vezes):\n",
    "        # Escolher um avatar baseado na probabilidade\n",
    "        escolhido = random.choices(bau['avatar'], weights=probabilidades, k=1)[0]\n",
    "        resultados.append(escolhido)\n",
    "    \n",
    "    # Agrupar resultados e contar repetições\n",
    "    agrupados = Counter(resultados)\n",
    "    \n",
    "    return agrupados"
   ]
  },
  {
   "cell_type": "code",
   "execution_count": 211,
   "metadata": {},
   "outputs": [],
   "source": [
    "# Opções do navegador (caso queira headless, descomente a linha abaixo)\n",
    "options = webdriver.ChromeOptions()\n",
    "options.add_argument(\"--headless\")\n",
    "\n",
    "driver = webdriver.Chrome(options=options)  # Passe `options=options` se for headless\n",
    "\n",
    "# URL da página\n",
    "url_bau_bas = \"https://www.pwdatabase.com/br/items/42202\"\n",
    "url_bau_s = \"https://www.pwdatabase.com/br/items/42398\"\n",
    "\n",
    "# Navegar até a página\n",
    "driver.get(url_bau_bas)\n",
    "\n",
    "html = driver.page_source\n",
    "\n",
    "    # Parsear o HTML com BeautifulSoup\n",
    "soup = BeautifulSoup(html, \"html.parser\")\n",
    "\n",
    "# Procurar a tabela com a classe específica\n",
    "mobs_drop = soup.find(\"table\", {\"id\": \"mobs_drop\"})\n",
    "\n",
    "drops = mobs_drop.find_all(\"tr\")[1:]\n"
   ]
  },
  {
   "cell_type": "code",
   "execution_count": 174,
   "metadata": {},
   "outputs": [],
   "source": [
    "# Opções do navegador (caso queira headless, descomente a linha abaixo)\n",
    "options = webdriver.ChromeOptions()\n",
    "options.add_argument(\"--headless\")\n",
    "\n",
    "driver = webdriver.Chrome(options=options)  # Passe `options=options` se for headless\n",
    "\n",
    "# URL da página\n",
    "url_bau_s = \"https://www.pwdatabase.com/br/items/42398\"\n",
    "\n",
    "# Navegar até a página\n",
    "driver.get(url_bau_s)\n",
    "\n",
    "html = driver.page_source\n",
    "\n",
    "    # Parsear o HTML com BeautifulSoup\n",
    "soup = BeautifulSoup(html, \"html.parser\")\n",
    "\n",
    "# Procurar a tabela com a classe específica\n",
    "mobs_drop = soup.find(\"table\", {\"id\": \"mobs_drop\"})\n",
    "\n",
    "drops_S = mobs_drop.find_all(\"tr\")[1:]\n"
   ]
  },
  {
   "cell_type": "code",
   "execution_count": 233,
   "metadata": {},
   "outputs": [],
   "source": [
    "# Procurar a tabela com a classe específica\n",
    "mobs_drop = soup.find(\"table\", {\"id\": \"mobs_drop\"})\n",
    "\n",
    "drops = mobs_drop.find_all(\"tr\")[1:]"
   ]
  },
  {
   "cell_type": "code",
   "execution_count": 234,
   "metadata": {},
   "outputs": [],
   "source": [
    "bau = {'avatar': [], 'prob': [], 'raridade': []}\n",
    "\n",
    "for drop in drops:\n",
    "    valores = drop.findAll(\"td\")[1:]\n",
    "    avatar = valores[0].find(\"span\").text  # Texto dentro do <span>\n",
    "    prob = valores[1].text.strip()  # Texto do segundo <t\n",
    "\n",
    "    bau['avatar'].append(avatar)\n",
    "    bau['prob'].append(prob)\n",
    "\n",
    "    prob_float = float(prob)  # Converter a probabilidade para float\n",
    "    if prob_float <= 0.04:\n",
    "        raridade = 'S'\n",
    "    elif 0.04 < prob_float <= 0.09:\n",
    "        raridade = 'A'\n",
    "    else:\n",
    "        raridade = 'B'\n",
    "\n",
    "    bau['raridade'].append(raridade)\n"
   ]
  },
  {
   "cell_type": "code",
   "execution_count": 270,
   "metadata": {},
   "outputs": [
    {
     "data": {
      "text/html": [
       "<div>\n",
       "<style scoped>\n",
       "    .dataframe tbody tr th:only-of-type {\n",
       "        vertical-align: middle;\n",
       "    }\n",
       "\n",
       "    .dataframe tbody tr th {\n",
       "        vertical-align: top;\n",
       "    }\n",
       "\n",
       "    .dataframe thead th {\n",
       "        text-align: right;\n",
       "    }\n",
       "</style>\n",
       "<table border=\"1\" class=\"dataframe\">\n",
       "  <thead>\n",
       "    <tr style=\"text-align: right;\">\n",
       "      <th></th>\n",
       "      <th>Avatar</th>\n",
       "      <th>Quantidade</th>\n",
       "      <th>Raridade</th>\n",
       "    </tr>\n",
       "  </thead>\n",
       "  <tbody>\n",
       "    <tr>\n",
       "      <th>45</th>\n",
       "      <td>Saki</td>\n",
       "      <td>2</td>\n",
       "      <td>S</td>\n",
       "    </tr>\n",
       "  </tbody>\n",
       "</table>\n",
       "</div>"
      ],
      "text/plain": [
       "   Avatar  Quantidade Raridade\n",
       "45   Saki           2        S"
      ]
     },
     "execution_count": 270,
     "metadata": {},
     "output_type": "execute_result"
    }
   ],
   "source": [
    "resultado = simulador_baus(bau, 300)\n",
    "\n",
    "nuema = ['Saki', 'Althea', 'Tensa', 'Kestra', 'Lorelei', 'Saki']\n",
    "\n",
    "data = []\n",
    "for avatar, quant in resultado.items():\n",
    "    indice = bau['avatar'].index(avatar)\n",
    "    raridade = bau['raridade'][indice]\n",
    "    data.append({'Avatar': avatar, 'Quantidade': quant, 'Raridade': raridade})\n",
    "\n",
    "# Criar o DataFrame\n",
    "df_resultado = pd.DataFrame(data)\n",
    "\n",
    "df_resultado[df_resultado['Avatar'].isin(nuema)]"
   ]
  }
 ],
 "metadata": {
  "kernelspec": {
   "display_name": "Python 3",
   "language": "python",
   "name": "python3"
  },
  "language_info": {
   "codemirror_mode": {
    "name": "ipython",
    "version": 3
   },
   "file_extension": ".py",
   "mimetype": "text/x-python",
   "name": "python",
   "nbconvert_exporter": "python",
   "pygments_lexer": "ipython3",
   "version": "3.12.6"
  }
 },
 "nbformat": 4,
 "nbformat_minor": 2
}
