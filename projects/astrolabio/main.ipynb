{
 "cells": [
  {
   "cell_type": "code",
   "execution_count": 65,
   "metadata": {},
   "outputs": [],
   "source": [
    "import sys\n",
    "import pyautogui\n",
    "sys.path.append(\"../../\")\n",
    "from utils import function as f\n",
    "import time"
   ]
  },
  {
   "cell_type": "code",
   "execution_count": 49,
   "metadata": {},
   "outputs": [],
   "source": [
    "botao_reproduzir = f.LocateButton(r\"..\\..\\includes\\1920x1080\\botaoIniciarAstrolabioAtivo.png\")"
   ]
  },
  {
   "cell_type": "code",
   "execution_count": 54,
   "metadata": {},
   "outputs": [],
   "source": [
    "screenshot = pyautogui.screenshot()\n",
    "area_adds = (\n",
    "        botao_reproduzir[0] + 170,\n",
    "        botao_reproduzir[1] - 410,\n",
    "        botao_reproduzir[0] + 325,\n",
    "        botao_reproduzir[1] - 60,\n",
    "    )\n",
    "cropped_img = screenshot.crop(area_adds)\n",
    "\n",
    "# cropped_img.show()"
   ]
  },
  {
   "cell_type": "code",
   "execution_count": 66,
   "metadata": {},
   "outputs": [],
   "source": [
    "f.ShowWindow(\"Perfect World - Rate Media: Jornada ao Oeste\")\n",
    "time.sleep(1)\n",
    "pyautogui.click(botao_reproduzir[0], botao_reproduzir[1])"
   ]
  },
  {
   "cell_type": "code",
   "execution_count": 38,
   "metadata": {},
   "outputs": [],
   "source": [
    "import pytesseract as ocr\n",
    "TESSERACT_PATH = r\"C:\\Program Files\\Tesseract-OCR\\tesseract.exe\"\n",
    "ocr.pytesseract.tesseract_cmd = TESSERACT_PATH\n",
    "from PIL import Image"
   ]
  },
  {
   "cell_type": "code",
   "execution_count": 68,
   "metadata": {},
   "outputs": [
    {
     "name": "stdout",
     "output_type": "stream",
     "text": [
      "['Guia', 'Def', 'Água', 'Guia', 'Espírito', 'Guia', 'Atq', 'físico', 'Guia', 'Precisão', 'Guia', 'Atq', 'físico', 'Destino', 'Def', 'Terra', 'Destino', 'Def']\n"
     ]
    }
   ],
   "source": [
    "texto_extraido = ocr.image_to_string(cropped_img, lang='por')\n",
    "teste = texto_extraido.replace(\"-\", \" \").strip().split()\n",
    "print(teste)"
   ]
  },
  {
   "cell_type": "code",
   "execution_count": 81,
   "metadata": {},
   "outputs": [
    {
     "ename": "ValueError",
     "evalue": "list.remove(x): x not in list",
     "output_type": "error",
     "traceback": [
      "\u001b[1;31m---------------------------------------------------------------------------\u001b[0m",
      "\u001b[1;31mValueError\u001b[0m                                Traceback (most recent call last)",
      "Cell \u001b[1;32mIn[81], line 1\u001b[0m\n\u001b[1;32m----> 1\u001b[0m \u001b[43mteste\u001b[49m\u001b[38;5;241;43m.\u001b[39;49m\u001b[43mremove\u001b[49m\u001b[43m(\u001b[49m\u001b[38;5;124;43m\"\u001b[39;49m\u001b[38;5;124;43mGuia\u001b[39;49m\u001b[38;5;124;43m\"\u001b[39;49m\u001b[43m)\u001b[49m\n",
      "\u001b[1;31mValueError\u001b[0m: list.remove(x): x not in list"
     ]
    }
   ],
   "source": [
    "teste.remove(\"Guia\")"
   ]
  },
  {
   "cell_type": "code",
   "execution_count": 82,
   "metadata": {},
   "outputs": [
    {
     "data": {
      "text/plain": [
       "['Def',\n",
       " 'Água',\n",
       " 'Espírito',\n",
       " 'Atq',\n",
       " 'físico',\n",
       " 'Precisão',\n",
       " 'Atq',\n",
       " 'físico',\n",
       " 'Def',\n",
       " 'Terra',\n",
       " 'Def']"
      ]
     },
     "execution_count": 82,
     "metadata": {},
     "output_type": "execute_result"
    }
   ],
   "source": [
    "teste"
   ]
  },
  {
   "cell_type": "code",
   "execution_count": 56,
   "metadata": {},
   "outputs": [],
   "source": [
    "total_atqm = teste.count(\"AtaM\") + teste.count(\"AtqM\")\n",
    "total_espirito = teste.count(\"Espírito\") + teste.count(\"Espíritu\")\n",
    "total_penetracao = teste.count(\"Mágica\")"
   ]
  },
  {
   "cell_type": "code",
   "execution_count": 60,
   "metadata": {},
   "outputs": [
    {
     "name": "stdout",
     "output_type": "stream",
     "text": [
      "Ataque Magico: 0 Espirito: 1 Penetracao Magica: 0\n"
     ]
    }
   ],
   "source": [
    "print(\n",
    "        f\"Ataque Magico: {total_atqm} Espirito: {total_espirito} Penetracao Magica: {total_penetracao}\"\n",
    "    )"
   ]
  },
  {
   "cell_type": "code",
   "execution_count": 62,
   "metadata": {},
   "outputs": [
    {
     "data": {
      "text/plain": [
       "1"
      ]
     },
     "execution_count": 62,
     "metadata": {},
     "output_type": "execute_result"
    }
   ],
   "source": [
    "sum([total_atqm, total_espirito, total_penetracao])"
   ]
  }
 ],
 "metadata": {
  "kernelspec": {
   "display_name": "Python 3",
   "language": "python",
   "name": "python3"
  },
  "language_info": {
   "codemirror_mode": {
    "name": "ipython",
    "version": 3
   },
   "file_extension": ".py",
   "mimetype": "text/x-python",
   "name": "python",
   "nbconvert_exporter": "python",
   "pygments_lexer": "ipython3",
   "version": "3.12.6"
  }
 },
 "nbformat": 4,
 "nbformat_minor": 2
}
