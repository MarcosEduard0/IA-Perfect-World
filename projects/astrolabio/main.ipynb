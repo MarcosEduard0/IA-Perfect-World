{
 "cells": [
  {
   "cell_type": "code",
   "execution_count": 1,
   "metadata": {},
   "outputs": [],
   "source": [
    "import sys\n",
    "import pyautogui\n",
    "sys.path.append(\"../../\")\n",
    "from utils import function as f\n",
    "import time"
   ]
  },
  {
   "cell_type": "code",
   "execution_count": 2,
   "metadata": {},
   "outputs": [],
   "source": [
    "import pytesseract as ocr\n",
    "TESSERACT_PATH = r\"C:\\Program Files\\Tesseract-OCR\\tesseract.exe\"\n",
    "ocr.pytesseract.tesseract_cmd = TESSERACT_PATH\n",
    "from PIL import Image"
   ]
  },
  {
   "cell_type": "code",
   "execution_count": null,
   "metadata": {},
   "outputs": [],
   "source": [
    "botao_reproduzir = f.LocateButton(r\"..\\..\\includes\\1920x1080\\botaoIniciarAstrolabioAtivo.png\")"
   ]
  },
  {
   "cell_type": "code",
   "execution_count": null,
   "metadata": {},
   "outputs": [],
   "source": [
    "screenshot = pyautogui.screenshot()\n",
    "area_adds = (\n",
    "        botao_reproduzir[0] + 170,\n",
    "        botao_reproduzir[1] - 410,\n",
    "        botao_reproduzir[0] + 327,\n",
    "        botao_reproduzir[1] - 60,\n",
    "    )\n",
    "cropped_img = screenshot.crop(area_adds)\n",
    "\n",
    "# cropped_img.show()"
   ]
  },
  {
   "cell_type": "code",
   "execution_count": null,
   "metadata": {},
   "outputs": [],
   "source": []
  },
  {
   "cell_type": "code",
   "execution_count": 6,
   "metadata": {},
   "outputs": [
    {
     "data": {
      "text/plain": [
       "['HP', '100', 'Intelgência', '10']"
      ]
     },
     "execution_count": 6,
     "metadata": {},
     "output_type": "execute_result"
    }
   ],
   "source": [
    "cropped_img = Image.open(\"teste.png\")  # Abre a imagem corretamente\n",
    "    \n",
    "texto_extraido = ocr.image_to_string(cropped_img, lang='por')\n",
    "texto_extraido = texto_extraido.replace('Guia', \"\").replace('Destino', \"\").replace('\\'', \"\")\n",
    "palavras = texto_extraido.replace(\"-\", \" \").strip().split()\n",
    "palavras"
   ]
  },
  {
   "cell_type": "code",
   "execution_count": 14,
   "metadata": {},
   "outputs": [],
   "source": [
    "total_atqm = (\n",
    "    palavras.count(\"AtaM\")\n",
    "    + palavras.count(\"AtqM\")\n",
    "    + palavras.count(\"AtgM\")\n",
    "    + palavras.count(\"AtpM\")\n",
    "    + palavras.count(\"AtM\")\n",
    ")\n",
    "total_penetracao_magica = palavras.count(\"Mágica\") + palavras.count(\"Magica\")\n",
    "\n",
    "total_atqf = palavras.count(\"físico\") + palavras.count(\"fisico\")\n",
    "total_penetracao_fisica = palavras.count(\"Física\") + palavras.count(\"Fisica\")\n",
    "\n",
    "total_espirito = (\n",
    "    palavras.count(\"Espírito\")\n",
    "    + palavras.count(\"Espíritu\")\n",
    "    + palavras.count(\"Espirito\")\n",
    "    + palavras.count(\"Espiritu\")\n",
    ")\n",
    "total_def = palavras.count(\"Def\")\n",
    "total_defM = palavras.count(\"DefM\")\n",
    "total_hp = palavras.count(\"HP\")\n",
    "total_elemetos = (\n",
    "    palavras.count(\"Madeira\")\n",
    "    + palavras.count(\"Metal\")\n",
    "    + palavras.count(\"Fogo\")\n",
    "    + palavras.count(\"Água\")\n",
    "    + palavras.count(\"Terra\")\n",
    ")\n",
    "\n",
    "adds = {\n",
    "    \"Ataque Magico\": total_atqm,\n",
    "    \"Penetracao Magica\": total_penetracao_magica,\n",
    "    \"Ataque Fisico\": total_atqf,\n",
    "    \"Penetracao Fisica\": total_penetracao_fisica,\n",
    "    \"Espirito\": total_espirito,\n",
    "    \"Defesa\": total_def - total_elemetos,\n",
    "    \"Defesa Magica\": total_defM,\n",
    "    \"HP\": total_hp,\n",
    "}"
   ]
  },
  {
   "cell_type": "code",
   "execution_count": 15,
   "metadata": {},
   "outputs": [
    {
     "data": {
      "text/plain": [
       "{'Ataque Magico': 2,\n",
       " 'Penetracao Magica': 0,\n",
       " 'Ataque Fisico': 2,\n",
       " 'Penetracao Fisica': 2,\n",
       " 'Espirito': 0,\n",
       " 'Defesa': 0,\n",
       " 'Defesa Magica': 0,\n",
       " 'HP': 0}"
      ]
     },
     "execution_count": 15,
     "metadata": {},
     "output_type": "execute_result"
    }
   ],
   "source": [
    "adds"
   ]
  },
  {
   "cell_type": "code",
   "execution_count": 62,
   "metadata": {},
   "outputs": [
    {
     "data": {
      "text/plain": [
       "1"
      ]
     },
     "execution_count": 62,
     "metadata": {},
     "output_type": "execute_result"
    }
   ],
   "source": [
    "sum([total_atqm, total_espirito, total_penetracao])"
   ]
  },
  {
   "cell_type": "markdown",
   "metadata": {},
   "source": [
    "# teste anel"
   ]
  }
 ],
 "metadata": {
  "kernelspec": {
   "display_name": "Python 3",
   "language": "python",
   "name": "python3"
  },
  "language_info": {
   "codemirror_mode": {
    "name": "ipython",
    "version": 3
   },
   "file_extension": ".py",
   "mimetype": "text/x-python",
   "name": "python",
   "nbconvert_exporter": "python",
   "pygments_lexer": "ipython3",
   "version": "3.12.6"
  }
 },
 "nbformat": 4,
 "nbformat_minor": 2
}
