{
 "cells": [
  {
   "cell_type": "code",
   "execution_count": 10,
   "metadata": {},
   "outputs": [],
   "source": [
    "import ctypes\n",
    "import sys\n",
    "import win32process\n",
    "import win32gui\n",
    "import win32api"
   ]
  },
  {
   "cell_type": "code",
   "execution_count": 11,
   "metadata": {},
   "outputs": [],
   "source": [
    "# Definindo algumas constantes e variáveis necessárias\n",
    "window_name = \"Perfect World - Rate Media: Jornada ao Oeste\"\n",
    "moblist_filename = \"moblist.dat\"\n",
    "target_list = [0] * 255\n",
    "target_num = 0"
   ]
  },
  {
   "cell_type": "code",
   "execution_count": 12,
   "metadata": {},
   "outputs": [],
   "source": [
    "# Definindo os offsets (esses valores precisam ser definidos corretamente)\n",
    "addr_character_struc = 0\n",
    "addr_character_struc_actual = 0\n",
    "\n",
    "addr_base_static = 0x009B4594 #0x0092764C\n",
    "offset_from_base_for_coords = 0x14\n",
    "offset_hp = 1104\n",
    "offset_mp = 1108\n",
    "offset_maxhp = 1144\n",
    "offset_maxmp = 1148\n",
    "offset_target = 2800 #2584\n",
    "offset_exp = 1104\n",
    "offset_maxexp = 1104"
   ]
  },
  {
   "cell_type": "code",
   "execution_count": 13,
   "metadata": {},
   "outputs": [],
   "source": [
    "# Estruturas de dados necessárias\n",
    "class ProcessMemory:\n",
    "    def __init__(self, pid):\n",
    "        self.pid = pid\n",
    "        self.handle = win32api.OpenProcess(0x1F0FFF, False, self.pid)\n",
    "\n",
    "    def read_memory(self, address, size):\n",
    "        # Corrigindo a chamada de ReadProcessMemory\n",
    "        win32process.ReadProcessMemory(self.handle, address, size)"
   ]
  },
  {
   "cell_type": "code",
   "execution_count": 14,
   "metadata": {},
   "outputs": [],
   "source": [
    "# Encontra a janela do Perfect World\n",
    "hwnd = win32gui.FindWindow(None, window_name)\n",
    "if not hwnd:\n",
    "    print(\"Unable to find Perfect World window! FindWindow() error.\")\n",
    "    sys.exit(0)\n",
    "\n",
    "# Obtém o PID do processo\n",
    "pid = win32process.GetWindowThreadProcessId(hwnd)[1]"
   ]
  },
  {
   "cell_type": "code",
   "execution_count": 3,
   "metadata": {},
   "outputs": [],
   "source": [
    "import pymem\n",
    "import psutil\n"
   ]
  },
  {
   "cell_type": "code",
   "execution_count": 3,
   "metadata": {},
   "outputs": [],
   "source": [
    "def bytes_to_int(byte_sequence):\n",
    "    # Converte a sequência de bytes para um número inteiro (32 bits, little-endian)\n",
    "    return int.from_bytes(byte_sequence, byteorder='little')"
   ]
  },
  {
   "cell_type": "code",
   "execution_count": 17,
   "metadata": {},
   "outputs": [
    {
     "name": "stdout",
     "output_type": "stream",
     "text": [
      "Uso de memória: 1596420096 bytes\n"
     ]
    }
   ],
   "source": [
    "process = psutil.Process(pid)\n",
    "# Obter uso de memória\n",
    "memory_info = process.memory_info()\n",
    "print(f\"Uso de memória: {memory_info.rss} bytes\")\n"
   ]
  },
  {
   "cell_type": "code",
   "execution_count": 18,
   "metadata": {},
   "outputs": [
    {
     "name": "stdout",
     "output_type": "stream",
     "text": [
      "Uso de memória: 1596420096 bytes\n",
      "Erro ao ler memória: Could not read memory at: 1866258548, length: 4 - GetLastError: 299\n"
     ]
    }
   ],
   "source": [
    "process = psutil.Process(pid)\n",
    "# Obter uso de memória\n",
    "memory_info = process.memory_info()\n",
    "print(f\"Uso de memória: {memory_info.rss} bytes\")\n",
    "\n",
    "\n",
    "pm = pymem.Pymem(pid)\n",
    "\n",
    "base_address = 0x6F327EE4\n",
    "\n",
    "offset = 678288   # Deslocamento fixo conhecido\n",
    "\n",
    "# Calcular o endereço final\n",
    "final_address = base_address + offset\n",
    "\n",
    "try:\n",
    "    data = pm.read_bytes(final_address, 4)  # Lê 4 bytes a partir do endereço\n",
    "    print(f\"Dados lidos: {data}\")\n",
    "    print(f\"Valor como inteiro: {bytes_to_int(data)}\")\n",
    "except pymem.exception.MemoryReadError as e:\n",
    "    print(f\"Erro ao ler memória: {e}\")\n",
    "except pymem.exception.WinAPIError as e:\n",
    "    print(f\"Erro na API do Windows: {e}\")\n"
   ]
  },
  {
   "cell_type": "code",
   "execution_count": null,
   "metadata": {},
   "outputs": [],
   "source": [
    "def find_pattern(pm, start_address, pattern, direction='forward', max_size=1024**3, step_size=0x10):\n",
    "    \"\"\"\n",
    "    Função para procurar um padrão específico dentro da memória do processo.\n",
    "    :param pm: Objeto pymem para o processo\n",
    "    :param start_address: Endereço inicial da busca\n",
    "    :param pattern: Padrão a ser buscado\n",
    "    :param direction: 'forward' para buscar para frente, 'backward' para buscar para trás\n",
    "    :param max_size: Tamanho máximo da memória a ser vasculhada (default 1GB)\n",
    "    :param step_size: Tamanho do passo para a busca (default 16 bytes)\n",
    "    :return: Endereço onde o padrão foi encontrado, ou None se não encontrado\n",
    "    \"\"\"\n",
    "    # Definir o limite superior e inferior dependendo da direção da busca\n",
    "    if direction == 'forward':\n",
    "        end_address = start_address + max_size\n",
    "        step = step_size\n",
    "    elif direction == 'backward':\n",
    "        end_address = start_address - max_size\n",
    "        step = -step_size\n",
    "    else:\n",
    "        raise ValueError(\"A direção deve ser 'forward' ou 'backward'.\")\n",
    "    \n",
    "    # Iterar pelos endereços de memória, lendo em blocos\n",
    "    for address in range(start_address, end_address, step):\n",
    "        try:\n",
    "            data = pm.read_bytes(address, len(pattern))\n",
    "            if data == pattern:\n",
    "                # Calcula o offset em relação ao endereço base\n",
    "                offset = address - start_address\n",
    "                print(f\"Padrão encontrado no endereço: {hex(address)}\")\n",
    "                print(f\"Offset: {offset} bytes\")\n",
    "                return address  # Padrão encontrado, retorna o endereço base\n",
    "        except pymem.exception.MemoryReadError:\n",
    "            continue  # Se não conseguir ler, continua a busca\n",
    "    return None\n",
    "\n",
    "# Abrir o processo\n",
    "process = psutil.Process(pid)\n",
    "pm = pymem.Pymem(pid)\n",
    "\n",
    "# Padrão que você deseja procurar\n",
    "pattern = b'A:\\x00\\x00'  # O padrão que você quer encontrar\n",
    "\n",
    "# Endereço inicial da busca (6F327EE4)\n",
    "start_address = 0x140000000\n",
    "\n",
    "# Buscar o padrão na memória a partir do endereço e vasculhando até 1GB para frente\n",
    "base_address = find_pattern(pm, start_address, pattern, direction='forward', max_size=1024**3, step_size=0x10)\n",
    "\n",
    "if base_address:\n",
    "    print(f\"Padrão encontrado no endereço base (para frente): {hex(base_address)}\")\n",
    "else:\n",
    "    print(\"Padrão não encontrado dentro do intervalo de busca para frente.\")"
   ]
  },
  {
   "cell_type": "code",
   "execution_count": 287,
   "metadata": {},
   "outputs": [
    {
     "name": "stdout",
     "output_type": "stream",
     "text": [
      "Padrão não encontrado dentro do intervalo de busca para trás.\n"
     ]
    }
   ],
   "source": [
    "# Buscar o padrão na memória a partir do endereço e vasculhando até 1GB para trás\n",
    "base_address = find_pattern(pm, start_address, pattern, direction='backward', max_size=1024**3, step_size=0x10)\n",
    "\n",
    "if base_address:\n",
    "    print(f\"Padrão encontrado no endereço base (para trás): {hex(base_address)}\")\n",
    "else:\n",
    "    print(\"Padrão não encontrado dentro do intervalo de busca para trás.\")"
   ]
  },
  {
   "cell_type": "markdown",
   "metadata": {},
   "source": [
    "# Rascunyho"
   ]
  },
  {
   "cell_type": "code",
   "execution_count": 11,
   "metadata": {},
   "outputs": [],
   "source": [
    "# # Encontra a janela do Perfect World\n",
    "# hwnd = win32gui.FindWindow(None, window_name)\n",
    "# if not hwnd:\n",
    "#     print(\"Unable to find Perfect World window! FindWindow() error.\")\n",
    "#     sys.exit(0)\n",
    "\n",
    "# # Obtém o PID do processo\n",
    "# pid = win32process.GetWindowThreadProcessId(hwnd)[1]"
   ]
  },
  {
   "cell_type": "code",
   "execution_count": 1,
   "metadata": {},
   "outputs": [],
   "source": [
    "import pymem"
   ]
  },
  {
   "cell_type": "code",
   "execution_count": 4,
   "metadata": {},
   "outputs": [
    {
     "name": "stdout",
     "output_type": "stream",
     "text": [
      "Endereço base: 0x140000000\n"
     ]
    }
   ],
   "source": [
    "pm = pymem.Pymem(\"elementclient_64.exe\")\n",
    "base_address = pm.base_address\n",
    "print(f\"Endereço base: {hex(base_address)}\")"
   ]
  },
  {
   "cell_type": "code",
   "execution_count": 5,
   "metadata": {},
   "outputs": [
    {
     "name": "stdout",
     "output_type": "stream",
     "text": [
      "Endereço real: 0x140148a08\n"
     ]
    }
   ],
   "source": [
    "real_address = base_address + 0x00148A08\n",
    "print(f\"Endereço real: {hex(real_address)}\")"
   ]
  },
  {
   "cell_type": "code",
   "execution_count": 6,
   "metadata": {},
   "outputs": [
    {
     "name": "stdout",
     "output_type": "stream",
     "text": [
      "Dados lidos: b'\\n\\x00\\x00\\x00'\n",
      "Valor como inteiro: 10\n"
     ]
    }
   ],
   "source": [
    "data = pm.read_bytes(0x00148A08, 4)  # Lê 4 bytes a partir do endereço\n",
    "print(f\"Dados lidos: {data}\")\n",
    "print(f\"Valor como inteiro: {bytes_to_int(data)}\")"
   ]
  },
  {
   "cell_type": "code",
   "execution_count": 306,
   "metadata": {},
   "outputs": [
    {
     "data": {
      "text/plain": [
       "'-0xedf00150'"
      ]
     },
     "execution_count": 306,
     "metadata": {},
     "output_type": "execute_result"
    }
   ],
   "source": [
    "hex(0x520FFEB0 - 0x140000000)"
   ]
  },
  {
   "cell_type": "code",
   "execution_count": null,
   "metadata": {},
   "outputs": [
    {
     "name": "stdout",
     "output_type": "stream",
     "text": [
      "[Mensagem do Script] {'type': 'send', 'payload': 'Instrução alvo: 0x1408bacc3'}\n",
      "Script injetado. Aguardando a execução da instrução interceptada...\n",
      "[Mensagem do Script] {'type': 'send', 'payload': 'RDI: 0x51ddbe90 | HP Address: 0x51ddc7bc | HP Value: 15685'}\n"
     ]
    }
   ],
   "source": [
    "import frida\n",
    "import sys\n",
    "\n",
    "def on_message(message, data):\n",
    "    print(\"[Mensagem do Script]\", message)\n",
    "\n",
    "try:\n",
    "    # Anexa ao processo \"elementclient_64.exe\"\n",
    "    session = frida.attach(\"elementclient_64.exe\")\n",
    "except Exception as e:\n",
    "    print(\"Erro ao anexar no processo:\", e)\n",
    "    sys.exit(1)\n",
    "\n",
    "# Script JavaScript que será injetado\n",
    "script_code = \"\"\"\n",
    "// Obtém o endereço base do módulo\n",
    "var moduleBase = Module.findBaseAddress(\"elementclient_64.exe\");\n",
    "if (moduleBase === null) {\n",
    "    send(\"Não foi possível encontrar o endereço base do módulo.\");\n",
    "} else {\n",
    "    // Calcula o endereço da instrução alvo: elementclient_64.exe + 0x8BACC3\n",
    "    var targetAddress = moduleBase.add(0x8BACC3);\n",
    "    send(\"Instrução alvo: \" + targetAddress);\n",
    "    \n",
    "    // Armazena o objeto do hook numa variável para que possamos removê-lo posteriormente\n",
    "    var hook = Interceptor.attach(targetAddress, {\n",
    "        onEnter: function(args) {\n",
    "            // Calcula o endereço do HP a partir do valor de RDI + 0x92C\n",
    "            var hpAddress = this.context.rdi.add(0x92C);\n",
    "            // Lê um inteiro (32 bits) a partir desse endereço\n",
    "            var hpValue = Memory.readInt(hpAddress);\n",
    "            send(\"RDI: \" + this.context.rdi + \" | HP Address: \" + hpAddress + \" | HP Value: \" + hpValue);\n",
    "            // Remove o hook para que não entre em loop\n",
    "            hook.detach();\n",
    "        }\n",
    "    });\n",
    "}\n",
    "\"\"\"\n",
    "\n",
    "# Cria e carrega o script\n",
    "script = session.create_script(script_code)\n",
    "script.on(\"message\", on_message)\n",
    "script.load()\n",
    "\n",
    "print(\"Script injetado. Aguardando a execução da instrução interceptada...\")\n",
    "sys.stdin.read()\n"
   ]
  }
 ],
 "metadata": {
  "kernelspec": {
   "display_name": "Python 3",
   "language": "python",
   "name": "python3"
  },
  "language_info": {
   "codemirror_mode": {
    "name": "ipython",
    "version": 3
   },
   "file_extension": ".py",
   "mimetype": "text/x-python",
   "name": "python",
   "nbconvert_exporter": "python",
   "pygments_lexer": "ipython3",
   "version": "3.12.6"
  }
 },
 "nbformat": 4,
 "nbformat_minor": 2
}
