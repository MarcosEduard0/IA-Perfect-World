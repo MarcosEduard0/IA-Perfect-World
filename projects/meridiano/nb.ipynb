{
 "cells": [
  {
   "cell_type": "code",
   "execution_count": 9,
   "metadata": {},
   "outputs": [],
   "source": [
    "from time import sleep\n",
    "import pyautogui\n",
    "import win32gui, win32con\n"
   ]
  },
  {
   "cell_type": "code",
   "execution_count": 10,
   "metadata": {},
   "outputs": [],
   "source": [
    "def ShowWindow(nome):\n",
    "    hwnd = win32gui.FindWindow(None, nome)\n",
    "    win32gui.SetForegroundWindow(hwnd)\n",
    "    win32gui.ShowWindow(hwnd, win32con.SW_SHOW)\n",
    "    sleep(1)"
   ]
  },
  {
   "cell_type": "code",
   "execution_count": 13,
   "metadata": {},
   "outputs": [
    {
     "data": {
      "text/plain": [
       "Point(x=956, y=515)"
      ]
     },
     "execution_count": 13,
     "metadata": {},
     "output_type": "execute_result"
    }
   ],
   "source": [
    "pyautogui.position()"
   ]
  },
  {
   "cell_type": "code",
   "execution_count": 15,
   "metadata": {},
   "outputs": [],
   "source": [
    "ShowWindow(\"Perfect World\")\n",
    "# Itera sobre todas as localizações da imagem e clica nelas com o botão direito pressionado\n",
    "pyautogui.mouseDown(button='right')  # Pressiona o botão direito do mouse\n",
    "for i in range(10):\n",
    "    pyautogui.click(x=956, y=515)  # Clica na posição encontrada\n",
    "    sleep(3)\n",
    "pyautogui.mouseUp(button='right')  # Solta o botão direito do mouse"
   ]
  },
  {
   "cell_type": "code",
   "execution_count": 12,
   "metadata": {},
   "outputs": [
    {
     "ename": "KeyboardInterrupt",
     "evalue": "",
     "output_type": "error",
     "traceback": [
      "\u001b[1;31m---------------------------------------------------------------------------\u001b[0m",
      "\u001b[1;31mKeyboardInterrupt\u001b[0m                         Traceback (most recent call last)",
      "Cell \u001b[1;32mIn[12], line 7\u001b[0m\n\u001b[0;32m      5\u001b[0m pyautogui\u001b[38;5;241m.\u001b[39mclick(pos)  \u001b[38;5;66;03m# Clica na posição encontrada\u001b[39;00m\n\u001b[0;32m      6\u001b[0m pyautogui\u001b[38;5;241m.\u001b[39mmouseUp(button\u001b[38;5;241m=\u001b[39m\u001b[38;5;124m'\u001b[39m\u001b[38;5;124mright\u001b[39m\u001b[38;5;124m'\u001b[39m)  \u001b[38;5;66;03m# Solta o botão direito do mouse\u001b[39;00m\n\u001b[1;32m----> 7\u001b[0m \u001b[43msleep\u001b[49m\u001b[43m(\u001b[49m\u001b[38;5;241;43m4\u001b[39;49m\u001b[43m)\u001b[49m\n",
      "\u001b[1;31mKeyboardInterrupt\u001b[0m: "
     ]
    }
   ],
   "source": [
    "ShowWindow(\"Perfect World\")\n",
    "# Itera sobre todas as localizações da imagem e clica nelas com o botão direito pressionado\n",
    "for pos in pyautogui.locateAllOnScreen(\"alvo.png\", confidence=0.7):\n",
    "    pyautogui.mouseDown(button='right')  # Pressiona o botão direito do mouse\n",
    "    pyautogui.click(x=956, y=515)  # Clica na posição encontrada\n",
    "    pyautogui.mouseUp(button='right')  # Solta o botão direito do mouse\n",
    "    sleep(4)"
   ]
  },
  {
   "cell_type": "markdown",
   "metadata": {},
   "source": [
    "## Espirito g17"
   ]
  },
  {
   "cell_type": "code",
   "execution_count": 18,
   "metadata": {},
   "outputs": [],
   "source": [
    "while True:\n",
    "    try:\n",
    "        for pos in pyautogui.locateAllOnScreen('perna.png', confidence=0.79):\n",
    "            pyautogui.click(pos)\n",
    "    except:\n",
    "        break"
   ]
  },
  {
   "cell_type": "code",
   "execution_count": 41,
   "metadata": {},
   "outputs": [],
   "source": [
    "for pos in pyautogui.locateAllOnScreen('braco.png', confidence=0.95):\n",
    "    pyautogui.click(pos, button='right')"
   ]
  },
  {
   "cell_type": "code",
   "execution_count": 2,
   "metadata": {},
   "outputs": [
    {
     "name": "stdout",
     "output_type": "stream",
     "text": [
      "79\n"
     ]
    }
   ],
   "source": [
    "for i in range(50):\n",
    "    pyautogui.click((1213, 679))\n",
    "    sleep(0.5)\n",
    "\n",
    "    quant_def = len(list(pyautogui.locateAllOnScreen('peito.png', confidence=0.71)))\n",
    "\n",
    "    if quant_def > 1:\n",
    "        break\n",
    "    pyautogui.click((1213, 679))\n",
    "\n",
    "print(quant_def)"
   ]
  }
 ],
 "metadata": {
  "kernelspec": {
   "display_name": "Python 3",
   "language": "python",
   "name": "python3"
  },
  "language_info": {
   "codemirror_mode": {
    "name": "ipython",
    "version": 3
   },
   "file_extension": ".py",
   "mimetype": "text/x-python",
   "name": "python",
   "nbconvert_exporter": "python",
   "pygments_lexer": "ipython3",
   "version": "3.12.6"
  }
 },
 "nbformat": 4,
 "nbformat_minor": 2
}
