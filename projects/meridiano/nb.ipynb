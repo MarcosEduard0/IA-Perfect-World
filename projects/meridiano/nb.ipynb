{
 "cells": [
  {
   "cell_type": "code",
   "execution_count": 2,
   "metadata": {},
   "outputs": [],
   "source": [
    "from time import sleep\n",
    "import pyautogui"
   ]
  },
  {
   "cell_type": "code",
   "execution_count": 27,
   "metadata": {},
   "outputs": [],
   "source": [
    "# Captura a posição inicial do mouse\n",
    "original_position = pyautogui.position()\n",
    "\n",
    "# Itera sobre todas as localizações da imagem e clica nelas\n",
    "for pos in pyautogui.locateAllOnScreen(\"bolinha.png\", confidence=0.8):\n",
    "    pyautogui.click(pos)\n",
    "\n",
    "# Retorna o mouse para a posição original\n",
    "pyautogui.moveTo(original_position)"
   ]
  },
  {
   "cell_type": "markdown",
   "metadata": {},
   "source": [
    "## Espirito g17"
   ]
  },
  {
   "cell_type": "code",
   "execution_count": 18,
   "metadata": {},
   "outputs": [],
   "source": [
    "while True:\n",
    "    try:\n",
    "        for pos in pyautogui.locateAllOnScreen('perna.png', confidence=0.79):\n",
    "            pyautogui.click(pos)\n",
    "    except:\n",
    "        break"
   ]
  },
  {
   "cell_type": "code",
   "execution_count": 41,
   "metadata": {},
   "outputs": [],
   "source": [
    "for pos in pyautogui.locateAllOnScreen('braco.png', confidence=0.95):\n",
    "    pyautogui.click(pos, button='right')"
   ]
  },
  {
   "cell_type": "code",
   "execution_count": 2,
   "metadata": {},
   "outputs": [
    {
     "name": "stdout",
     "output_type": "stream",
     "text": [
      "79\n"
     ]
    }
   ],
   "source": [
    "for i in range(50):\n",
    "    pyautogui.click((1213, 679))\n",
    "    sleep(0.5)\n",
    "\n",
    "    quant_def = len(list(pyautogui.locateAllOnScreen('peito.png', confidence=0.71)))\n",
    "\n",
    "    if quant_def > 1:\n",
    "        break\n",
    "    pyautogui.click((1213, 679))\n",
    "\n",
    "print(quant_def)"
   ]
  }
 ],
 "metadata": {
  "kernelspec": {
   "display_name": "Python 3",
   "language": "python",
   "name": "python3"
  },
  "language_info": {
   "codemirror_mode": {
    "name": "ipython",
    "version": 3
   },
   "file_extension": ".py",
   "mimetype": "text/x-python",
   "name": "python",
   "nbconvert_exporter": "python",
   "pygments_lexer": "ipython3",
   "version": "3.12.6"
  }
 },
 "nbformat": 4,
 "nbformat_minor": 2
}
